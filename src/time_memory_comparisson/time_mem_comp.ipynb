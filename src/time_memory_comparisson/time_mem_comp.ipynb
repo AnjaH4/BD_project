{
 "cells": [
  {
   "cell_type": "code",
   "id": "initial_id",
   "metadata": {
    "collapsed": true,
    "ExecuteTime": {
     "start_time": "2024-08-18T20:17:01.998116Z"
    }
   },
   "source": [
    "import pandas as pd\n",
    "import numpy as np\n",
    "import matplotlib.pyplot as plt\n",
    "import pyarrow.parquet as pq\n"
   ],
   "outputs": [],
   "execution_count": null
  },
  {
   "metadata": {},
   "cell_type": "code",
   "source": [
    "#read parquet file /home/anjah/Documents/mag/BD/project/BD_project/data/augmented/augmented/2014_augmented.parquet and display properties\n",
    "# Open the Parquet file\n",
    "parquet_file = pq.ParquetFile('/home/anjah/Documents/mag/BD/project/BD_project/data/augmented/augmented/2014_augmented.parquet')\n",
    "\n",
    "# Get basic file metadata\n",
    "metadata = parquet_file.metadata\n",
    "print(\"Number of Row Groups:\", metadata.num_row_groups)\n",
    "print(\"Number of Rows:\", metadata.num_rows)\n",
    "print(\"Number of Columns:\", metadata.num_columns)\n",
    "print(\"File Schema:\\n\", parquet_file.schema)\n",
    "print(\"Column Names:\", parquet_file.schema.names)\n",
    "\n",
    "# Display row group information\n",
    "for i in range(metadata.num_row_groups):\n",
    "    row_group = metadata.row_group(i)\n",
    "    print(f\"\\nRow Group {i}:\")\n",
    "    print(\"Number of Rows:\", row_group.num_rows)\n",
    "    for j in range(row_group.num_columns):\n",
    "        col = row_group.column(j)\n",
    "        print(f\"  Column {j}: {col.path_in_schema}, Size: {col.total_compressed_size} bytes\")\n",
    "\n",
    "#1048576"
   ],
   "id": "824a2cdceffcaa12",
   "outputs": [],
   "execution_count": null
  },
  {
   "metadata": {},
   "cell_type": "code",
   "source": [
    "import h5py\n",
    "\n",
    "def explore_hdf5(file_path):\n",
    "    # Open the HDF5 file\n",
    "    with h5py.File(file_path, 'r') as hdf:\n",
    "        # Recursively explore the file structure\n",
    "        def print_attrs(name, obj):\n",
    "            print(f\"{name}:\")\n",
    "            for key, val in obj.attrs.items():\n",
    "                print(f\"  Attribute: {key} = {val}\")\n",
    "            if isinstance(obj, h5py.Dataset):\n",
    "                print(f\"  Dataset shape: {obj.shape}\")\n",
    "                print(f\"  Dataset dtype: {obj.dtype}\")\n",
    "            if isinstance(obj, h5py.Group):\n",
    "                print(f\"  Group: {name}\")\n",
    "\n",
    "        # Visit all groups and datasets in the file\n",
    "        hdf.visititems(print_attrs)\n",
    "\n",
    "# Example usage\n",
    "explore_hdf5('/home/anjah/Documents/mag/BD/project/BD_project/data/augmented/augmented/hdf5/2014_augmented.h5')\n"
   ],
   "id": "77d870b370d7b4b3",
   "outputs": [],
   "execution_count": null
  },
  {
   "metadata": {
    "ExecuteTime": {
     "end_time": "2024-08-18T20:49:39.566586Z",
     "start_time": "2024-08-18T20:49:38.885478Z"
    }
   },
   "cell_type": "code",
   "source": [
    "import os\n",
    "import dask.dataframe as dd\n",
    "from dask.distributed import Client, LocalCluster\n",
    "from datetime import datetime\n",
    "\n",
    "cluster = LocalCluster(n_workers=1, threads_per_worker=4, memory_limit=\"8GB\")\n",
    "client = Client(cluster)\n",
    "\n",
    "\n",
    "client"
   ],
   "id": "a869ba7f02421981",
   "outputs": [
    {
     "name": "stderr",
     "output_type": "stream",
     "text": [
      "/home/anjah/miniconda3/envs/BDproj/lib/python3.9/site-packages/distributed/node.py:182: UserWarning: Port 8787 is already in use.\n",
      "Perhaps you already have a cluster running?\n",
      "Hosting the HTTP server on port 44607 instead\n",
      "  warnings.warn(\n"
     ]
    },
    {
     "data": {
      "text/plain": [
       "<Client: 'tcp://127.0.0.1:41127' processes=1 threads=4, memory=7.45 GiB>"
      ],
      "text/html": [
       "<div>\n",
       "    <div style=\"width: 24px; height: 24px; background-color: #e1e1e1; border: 3px solid #9D9D9D; border-radius: 5px; position: absolute;\"> </div>\n",
       "    <div style=\"margin-left: 48px;\">\n",
       "        <h3 style=\"margin-bottom: 0px;\">Client</h3>\n",
       "        <p style=\"color: #9D9D9D; margin-bottom: 0px;\">Client-63181e1c-5da3-11ef-94a0-7c507995e764</p>\n",
       "        <table style=\"width: 100%; text-align: left;\">\n",
       "\n",
       "        <tr>\n",
       "        \n",
       "            <td style=\"text-align: left;\"><strong>Connection method:</strong> Cluster object</td>\n",
       "            <td style=\"text-align: left;\"><strong>Cluster type:</strong> distributed.LocalCluster</td>\n",
       "        \n",
       "        </tr>\n",
       "\n",
       "        \n",
       "            <tr>\n",
       "                <td style=\"text-align: left;\">\n",
       "                    <strong>Dashboard: </strong> <a href=\"http://127.0.0.1:44607/status\" target=\"_blank\">http://127.0.0.1:44607/status</a>\n",
       "                </td>\n",
       "                <td style=\"text-align: left;\"></td>\n",
       "            </tr>\n",
       "        \n",
       "\n",
       "        </table>\n",
       "\n",
       "        \n",
       "\n",
       "        \n",
       "            <details>\n",
       "            <summary style=\"margin-bottom: 20px;\"><h3 style=\"display: inline;\">Cluster Info</h3></summary>\n",
       "            <div class=\"jp-RenderedHTMLCommon jp-RenderedHTML jp-mod-trusted jp-OutputArea-output\">\n",
       "    <div style=\"width: 24px; height: 24px; background-color: #e1e1e1; border: 3px solid #9D9D9D; border-radius: 5px; position: absolute;\">\n",
       "    </div>\n",
       "    <div style=\"margin-left: 48px;\">\n",
       "        <h3 style=\"margin-bottom: 0px; margin-top: 0px;\">LocalCluster</h3>\n",
       "        <p style=\"color: #9D9D9D; margin-bottom: 0px;\">c24d6ef1</p>\n",
       "        <table style=\"width: 100%; text-align: left;\">\n",
       "            <tr>\n",
       "                <td style=\"text-align: left;\">\n",
       "                    <strong>Dashboard:</strong> <a href=\"http://127.0.0.1:44607/status\" target=\"_blank\">http://127.0.0.1:44607/status</a>\n",
       "                </td>\n",
       "                <td style=\"text-align: left;\">\n",
       "                    <strong>Workers:</strong> 1\n",
       "                </td>\n",
       "            </tr>\n",
       "            <tr>\n",
       "                <td style=\"text-align: left;\">\n",
       "                    <strong>Total threads:</strong> 4\n",
       "                </td>\n",
       "                <td style=\"text-align: left;\">\n",
       "                    <strong>Total memory:</strong> 7.45 GiB\n",
       "                </td>\n",
       "            </tr>\n",
       "            \n",
       "            <tr>\n",
       "    <td style=\"text-align: left;\"><strong>Status:</strong> running</td>\n",
       "    <td style=\"text-align: left;\"><strong>Using processes:</strong> True</td>\n",
       "</tr>\n",
       "\n",
       "            \n",
       "        </table>\n",
       "\n",
       "        <details>\n",
       "            <summary style=\"margin-bottom: 20px;\">\n",
       "                <h3 style=\"display: inline;\">Scheduler Info</h3>\n",
       "            </summary>\n",
       "\n",
       "            <div style=\"\">\n",
       "    <div>\n",
       "        <div style=\"width: 24px; height: 24px; background-color: #FFF7E5; border: 3px solid #FF6132; border-radius: 5px; position: absolute;\"> </div>\n",
       "        <div style=\"margin-left: 48px;\">\n",
       "            <h3 style=\"margin-bottom: 0px;\">Scheduler</h3>\n",
       "            <p style=\"color: #9D9D9D; margin-bottom: 0px;\">Scheduler-81b07dca-8ee3-43c6-9d19-903ee97cad06</p>\n",
       "            <table style=\"width: 100%; text-align: left;\">\n",
       "                <tr>\n",
       "                    <td style=\"text-align: left;\">\n",
       "                        <strong>Comm:</strong> tcp://127.0.0.1:41127\n",
       "                    </td>\n",
       "                    <td style=\"text-align: left;\">\n",
       "                        <strong>Workers:</strong> 1\n",
       "                    </td>\n",
       "                </tr>\n",
       "                <tr>\n",
       "                    <td style=\"text-align: left;\">\n",
       "                        <strong>Dashboard:</strong> <a href=\"http://127.0.0.1:44607/status\" target=\"_blank\">http://127.0.0.1:44607/status</a>\n",
       "                    </td>\n",
       "                    <td style=\"text-align: left;\">\n",
       "                        <strong>Total threads:</strong> 4\n",
       "                    </td>\n",
       "                </tr>\n",
       "                <tr>\n",
       "                    <td style=\"text-align: left;\">\n",
       "                        <strong>Started:</strong> Just now\n",
       "                    </td>\n",
       "                    <td style=\"text-align: left;\">\n",
       "                        <strong>Total memory:</strong> 7.45 GiB\n",
       "                    </td>\n",
       "                </tr>\n",
       "            </table>\n",
       "        </div>\n",
       "    </div>\n",
       "\n",
       "    <details style=\"margin-left: 48px;\">\n",
       "        <summary style=\"margin-bottom: 20px;\">\n",
       "            <h3 style=\"display: inline;\">Workers</h3>\n",
       "        </summary>\n",
       "\n",
       "        \n",
       "        <div style=\"margin-bottom: 20px;\">\n",
       "            <div style=\"width: 24px; height: 24px; background-color: #DBF5FF; border: 3px solid #4CC9FF; border-radius: 5px; position: absolute;\"> </div>\n",
       "            <div style=\"margin-left: 48px;\">\n",
       "            <details>\n",
       "                <summary>\n",
       "                    <h4 style=\"margin-bottom: 0px; display: inline;\">Worker: 0</h4>\n",
       "                </summary>\n",
       "                <table style=\"width: 100%; text-align: left;\">\n",
       "                    <tr>\n",
       "                        <td style=\"text-align: left;\">\n",
       "                            <strong>Comm: </strong> tcp://127.0.0.1:45609\n",
       "                        </td>\n",
       "                        <td style=\"text-align: left;\">\n",
       "                            <strong>Total threads: </strong> 4\n",
       "                        </td>\n",
       "                    </tr>\n",
       "                    <tr>\n",
       "                        <td style=\"text-align: left;\">\n",
       "                            <strong>Dashboard: </strong> <a href=\"http://127.0.0.1:38701/status\" target=\"_blank\">http://127.0.0.1:38701/status</a>\n",
       "                        </td>\n",
       "                        <td style=\"text-align: left;\">\n",
       "                            <strong>Memory: </strong> 7.45 GiB\n",
       "                        </td>\n",
       "                    </tr>\n",
       "                    <tr>\n",
       "                        <td style=\"text-align: left;\">\n",
       "                            <strong>Nanny: </strong> tcp://127.0.0.1:37633\n",
       "                        </td>\n",
       "                        <td style=\"text-align: left;\"></td>\n",
       "                    </tr>\n",
       "                    <tr>\n",
       "                        <td colspan=\"2\" style=\"text-align: left;\">\n",
       "                            <strong>Local directory: </strong> /tmp/dask-scratch-space/worker-57jur4he\n",
       "                        </td>\n",
       "                    </tr>\n",
       "\n",
       "                    \n",
       "\n",
       "                    \n",
       "\n",
       "                </table>\n",
       "            </details>\n",
       "            </div>\n",
       "        </div>\n",
       "        \n",
       "\n",
       "    </details>\n",
       "</div>\n",
       "\n",
       "        </details>\n",
       "    </div>\n",
       "</div>\n",
       "            </details>\n",
       "        \n",
       "\n",
       "    </div>\n",
       "</div>"
      ]
     },
     "execution_count": 30,
     "metadata": {},
     "output_type": "execute_result"
    }
   ],
   "execution_count": 30
  },
  {
   "metadata": {
    "ExecuteTime": {
     "start_time": "2024-08-18T20:22:39.584957Z"
    }
   },
   "cell_type": "code",
   "source": [
    "hdf5_path = \"/home/anjah/Documents/mag/BD/project/BD_project/data/augmented/augmented/hdf5/2014_augmented.h5\"\n",
    "\n",
    "    # Initialize Dask DataFrame\n",
    "df = dd.read_hdf(hdf5_path, key='df')"
   ],
   "id": "9ed297441bd287d4",
   "outputs": [],
   "execution_count": null
  },
  {
   "metadata": {},
   "cell_type": "code",
   "source": "df.head()",
   "id": "c2b5deee9c7ada97",
   "outputs": [],
   "execution_count": null
  },
  {
   "metadata": {},
   "cell_type": "code",
   "source": "top_10_states = df['Registration State'].compute()",
   "id": "f1fd9b44f825fb81",
   "outputs": [],
   "execution_count": null
  },
  {
   "metadata": {},
   "cell_type": "code",
   "outputs": [],
   "execution_count": null,
   "source": "",
   "id": "82c760a93dc6e8ec"
  },
  {
   "metadata": {
    "ExecuteTime": {
     "end_time": "2024-08-18T20:47:41.244419Z",
     "start_time": "2024-08-18T20:47:41.223775Z"
    }
   },
   "cell_type": "code",
   "source": "df = dd.read_parquet(os.path.join('/home/anjah/Documents/mag/BD/project/BD_project/data/augmented/augmented/', \"*.parquet\"))",
   "id": "4a3b052949aab20a",
   "outputs": [],
   "execution_count": 19
  },
  {
   "metadata": {
    "ExecuteTime": {
     "end_time": "2024-08-18T20:29:29.347624Z",
     "start_time": "2024-08-18T20:29:28.837121Z"
    }
   },
   "cell_type": "code",
   "source": [
    "start = datetime.now()\n",
    "print(start)\n",
    "#ram usage for computation\n",
    "#ram_usage = df.memory_usage(deep=True).sum().compute()\n",
    "#ram needed for the following computation\n",
    "top_10_states = df['Registration State'].value_counts().nlargest(10).compute()\n",
    "top_10_states_list = top_10_states.index.tolist()\n",
    "    # Filter the Dask DataFrame for the top 10 states\n",
    "df_top_10_dask = df[df['Registration State'].isin(top_10_states_list)]\n",
    "end = datetime.now()\n",
    "time = end - start\n",
    "print(time)"
   ],
   "id": "c45abbd20836c28d",
   "outputs": [
    {
     "name": "stdout",
     "output_type": "stream",
     "text": [
      "2024-08-18 22:29:28.839524\n",
      "0:00:00.506243\n"
     ]
    }
   ],
   "execution_count": 26
  },
  {
   "metadata": {
    "ExecuteTime": {
     "end_time": "2024-08-18T20:47:58.951029Z",
     "start_time": "2024-08-18T20:47:56.772121Z"
    }
   },
   "cell_type": "code",
   "source": [
    "start = datetime.now()\n",
    "print(start)\n",
    "#ram usage for computation\n",
    "#ram_usage = df.memory_usage(deep=True).sum().compute()\n",
    "#ram needed for the following computation\n",
    "top_10_states = df['Registration State'].value_counts().nlargest(10).compute()\n",
    "top_10_states_list = top_10_states.index.tolist()\n",
    "    # Filter the Dask DataFrame for the top 10 states\n",
    "df_top_10_dask = df[df['Registration State'].isin(top_10_states_list)]\n",
    "end = datetime.now()\n",
    "time = end - start\n",
    "print(time)"
   ],
   "id": "6a9adf62df46a120",
   "outputs": [
    {
     "name": "stdout",
     "output_type": "stream",
     "text": [
      "2024-08-18 22:47:56.773580\n",
      "0:00:02.176026\n"
     ]
    }
   ],
   "execution_count": 20
  },
  {
   "metadata": {
    "ExecuteTime": {
     "end_time": "2024-08-18T20:48:12.668232Z",
     "start_time": "2024-08-18T20:48:12.654127Z"
    }
   },
   "cell_type": "code",
   "source": [
    "\n",
    "#Aggregate the data to get the number of tickets per day\n",
    "\n",
    "#Aggregate the data to get the number of tickets per day\n",
    "\n",
    "#Aggregate the data to get the number of tickets per day\n",
    "tickets_per_day = df.groupby('Issue Date').size().reset_index()\n"
   ],
   "id": "8f6a1767a77e09fd",
   "outputs": [],
   "execution_count": 21
  },
  {
   "metadata": {
    "ExecuteTime": {
     "end_time": "2024-08-18T20:48:17.810522Z",
     "start_time": "2024-08-18T20:48:14.678670Z"
    }
   },
   "cell_type": "code",
   "source": "tickets_per_day.head(10)",
   "id": "547a107bce341ac6",
   "outputs": [
    {
     "name": "stderr",
     "output_type": "stream",
     "text": [
      "2024-08-18 22:48:16,118 - distributed.worker.memory - WARNING - Unmanaged memory use is high. This may indicate a memory leak or the memory may not be released to the OS; see https://distributed.dask.org/en/latest/worker-memory.html#memory-not-released-back-to-the-os for more information. -- Unmanaged memory: 2.66 GiB -- Worker memory limit: 3.73 GiB\n"
     ]
    },
    {
     "data": {
      "text/plain": [
       "  Issue Date    0\n",
       "0 2013-07-01  128\n",
       "1 2013-07-02  272\n",
       "2 2013-07-03  304\n",
       "3 2013-07-04  117\n",
       "4 2013-07-05  255\n",
       "5 2013-07-06  189\n",
       "6 2013-07-07  344\n",
       "7 2013-07-08  484\n",
       "8 2013-07-09  739\n",
       "9 2013-07-10  652"
      ],
      "text/html": [
       "<div>\n",
       "<style scoped>\n",
       "    .dataframe tbody tr th:only-of-type {\n",
       "        vertical-align: middle;\n",
       "    }\n",
       "\n",
       "    .dataframe tbody tr th {\n",
       "        vertical-align: top;\n",
       "    }\n",
       "\n",
       "    .dataframe thead th {\n",
       "        text-align: right;\n",
       "    }\n",
       "</style>\n",
       "<table border=\"1\" class=\"dataframe\">\n",
       "  <thead>\n",
       "    <tr style=\"text-align: right;\">\n",
       "      <th></th>\n",
       "      <th>Issue Date</th>\n",
       "      <th>0</th>\n",
       "    </tr>\n",
       "  </thead>\n",
       "  <tbody>\n",
       "    <tr>\n",
       "      <th>0</th>\n",
       "      <td>2013-07-01</td>\n",
       "      <td>128</td>\n",
       "    </tr>\n",
       "    <tr>\n",
       "      <th>1</th>\n",
       "      <td>2013-07-02</td>\n",
       "      <td>272</td>\n",
       "    </tr>\n",
       "    <tr>\n",
       "      <th>2</th>\n",
       "      <td>2013-07-03</td>\n",
       "      <td>304</td>\n",
       "    </tr>\n",
       "    <tr>\n",
       "      <th>3</th>\n",
       "      <td>2013-07-04</td>\n",
       "      <td>117</td>\n",
       "    </tr>\n",
       "    <tr>\n",
       "      <th>4</th>\n",
       "      <td>2013-07-05</td>\n",
       "      <td>255</td>\n",
       "    </tr>\n",
       "    <tr>\n",
       "      <th>5</th>\n",
       "      <td>2013-07-06</td>\n",
       "      <td>189</td>\n",
       "    </tr>\n",
       "    <tr>\n",
       "      <th>6</th>\n",
       "      <td>2013-07-07</td>\n",
       "      <td>344</td>\n",
       "    </tr>\n",
       "    <tr>\n",
       "      <th>7</th>\n",
       "      <td>2013-07-08</td>\n",
       "      <td>484</td>\n",
       "    </tr>\n",
       "    <tr>\n",
       "      <th>8</th>\n",
       "      <td>2013-07-09</td>\n",
       "      <td>739</td>\n",
       "    </tr>\n",
       "    <tr>\n",
       "      <th>9</th>\n",
       "      <td>2013-07-10</td>\n",
       "      <td>652</td>\n",
       "    </tr>\n",
       "  </tbody>\n",
       "</table>\n",
       "</div>"
      ]
     },
     "execution_count": 22,
     "metadata": {},
     "output_type": "execute_result"
    }
   ],
   "execution_count": 22
  },
  {
   "metadata": {
    "ExecuteTime": {
     "end_time": "2024-08-18T20:48:21.712975Z",
     "start_time": "2024-08-18T20:48:21.709971Z"
    }
   },
   "cell_type": "code",
   "source": "tickets_per_day.columns = ['Issue Date', 'Number of Tickets']",
   "id": "95bea6aa396171c3",
   "outputs": [],
   "execution_count": 23
  },
  {
   "metadata": {
    "ExecuteTime": {
     "end_time": "2024-08-18T20:48:23.240735Z",
     "start_time": "2024-08-18T20:48:23.238446Z"
    }
   },
   "cell_type": "code",
   "source": "sorted_tickets_per_day = tickets_per_day.sort_values(by='Number of Tickets', ascending=False)",
   "id": "5e79cf523fa225cc",
   "outputs": [],
   "execution_count": 24
  },
  {
   "metadata": {
    "ExecuteTime": {
     "end_time": "2024-08-18T20:48:24.738599Z",
     "start_time": "2024-08-18T20:48:24.732014Z"
    }
   },
   "cell_type": "code",
   "source": [
    "# Assuming the DataFrame already contains the average precipitation per day\n",
    "avg_precipitation_per_day = df[['Issue Date', 'PRCP']].drop_duplicates()"
   ],
   "id": "1fc17032a99c7261",
   "outputs": [],
   "execution_count": 25
  },
  {
   "metadata": {
    "ExecuteTime": {
     "end_time": "2024-08-18T20:48:26.768978Z",
     "start_time": "2024-08-18T20:48:26.762852Z"
    }
   },
   "cell_type": "code",
   "source": "merged_data = sorted_tickets_per_day.merge(avg_precipitation_per_day, on='Issue Date')",
   "id": "6e04480a09709151",
   "outputs": [],
   "execution_count": 26
  },
  {
   "metadata": {
    "ExecuteTime": {
     "end_time": "2024-08-18T20:49:57.650647Z",
     "start_time": "2024-08-18T20:49:50.533127Z"
    }
   },
   "cell_type": "code",
   "source": [
    "start = datetime.now()\n",
    "print(start)\n",
    "merged_data.compute()\n",
    "end = datetime.now()\n",
    "time = end - start\n",
    "print(time)"
   ],
   "id": "8468c538cb9ba0ba",
   "outputs": [
    {
     "name": "stdout",
     "output_type": "stream",
     "text": [
      "2024-08-18 22:49:50.534211\n",
      "0:00:07.114756\n"
     ]
    }
   ],
   "execution_count": 31
  }
 ],
 "metadata": {
  "kernelspec": {
   "display_name": "Python 3",
   "language": "python",
   "name": "python3"
  },
  "language_info": {
   "codemirror_mode": {
    "name": "ipython",
    "version": 2
   },
   "file_extension": ".py",
   "mimetype": "text/x-python",
   "name": "python",
   "nbconvert_exporter": "python",
   "pygments_lexer": "ipython2",
   "version": "2.7.6"
  }
 },
 "nbformat": 4,
 "nbformat_minor": 5
}
