{
 "cells": [
  {
   "cell_type": "markdown",
   "metadata": {},
   "source": [
    "Imports"
   ]
  },
  {
   "cell_type": "code",
   "execution_count": 1,
   "metadata": {},
   "outputs": [],
   "source": [
    "import numpy as np\n",
    "import matplotlib.pyplot as plt\n",
    "import pandas as pd\n",
    "#import dask.dataframe as dd\n",
    "import dask.dataframe as dd\n",
    "import os\n",
    "import json\n",
    "from dask_ml.preprocessing import StandardScaler\n",
    "from dask_ml.linear_model import LinearRegression\n",
    "from dask.distributed import LocalCluster, Client\n",
    "from sklearn.linear_model import SGDRegressor\n",
    "from sklearn.metrics import mean_squared_error\n",
    "import matplotlib.pyplot as plt\n",
    "import xgboost as xgb\n",
    "import time\n",
    "import pandas as pd\n",
    "import matplotlib.pyplot as plt\n",
    "from dask.distributed import LocalCluster, Client\n",
    "from memory_profiler import memory_usage\n",
    "from sklearn.linear_model import SGDRegressor\n"
   ]
  },
  {
   "cell_type": "code",
   "execution_count": 2,
   "metadata": {},
   "outputs": [],
   "source": [
    "os.chdir('C:\\\\Users\\\\Uporabnik\\\\Documents\\\\FRI\\\\BD_project')\n"
   ]
  },
  {
   "cell_type": "markdown",
   "metadata": {},
   "source": [
    "### Set up"
   ]
  },
  {
   "cell_type": "code",
   "execution_count": null,
   "metadata": {},
   "outputs": [
    {
     "name": "stdout",
     "output_type": "stream",
     "text": [
      "9GB\n",
      "<Client: 'tcp://127.0.0.1:54746' processes=3 threads=18, memory=25.15 GiB>\n"
     ]
    }
   ],
   "source": [
    "# Cluster configuration\n",
    "n_workers = 3\n",
    "memory_limit = '9GB'\n",
    "file_type = 'parquet'\n",
    "\n",
    "print(memory_limit)\n",
    "#memory_limit = '8GB'\n",
    "cluster = LocalCluster(n_workers=n_workers, memory_limit=memory_limit)\n",
    "\n",
    "client = Client(cluster)\n",
    "print(client)\n"
   ]
  },
  {
   "cell_type": "code",
   "execution_count": 4,
   "metadata": {},
   "outputs": [],
   "source": [
    "time_dict = {\n",
    "    \"n_workers\": n_workers,\n",
    "    \"memory_limit\": memory_limit,\n",
    "    \"file_type\": file_type\n",
    "}"
   ]
  },
  {
   "cell_type": "code",
   "execution_count": 5,
   "metadata": {},
   "outputs": [],
   "source": [
    "# get to c:\\Users\\Uporabnik\\Documents\\FRI\\BD_project\\data\\parquet_files\n",
    "\n",
    "#DATA_DIR = '/d/hpc/projects/FRI/bigdata/students/mk75264/data/augmented'  # Update this path accordingly\n",
    "DATA_DIR = 'C:/Users/Uporabnik/Documents/FRI/BD_project/data/parquet_files'"
   ]
  },
  {
   "cell_type": "code",
   "execution_count": 19,
   "metadata": {},
   "outputs": [
    {
     "name": "stdout",
     "output_type": "stream",
     "text": [
      "Time to read parquet files:  0.2325890064239502\n",
      "Time to read parquet files:  0.07518887519836426\n",
      "Peak memory usage: 343.44921875 MB\n"
     ]
    }
   ],
   "source": [
    "# read in the parquet files but only the first 10 partitions\n",
    "def read_parquet_files():\n",
    "    start = time.time()\n",
    "    df = dd.read_parquet(DATA_DIR + '/*.parquet', engine='pyarrow', )\n",
    "    end = time.time()\n",
    "    print(\"Time to read parquet files: \", end-start)\n",
    "\n",
    "    time_dict['read'] = end - start\n",
    "    return df\n",
    "\n",
    "mem_usage = memory_usage(read_parquet_files, max_usage=True)\n",
    "df = read_parquet_files()\n",
    "\n",
    "print(f\"Peak memory usage: {mem_usage} MB\")\n"
   ]
  },
  {
   "cell_type": "code",
   "execution_count": 20,
   "metadata": {},
   "outputs": [],
   "source": [
    "# Code does not work without repartitioning\n",
    "df = df.repartition(npartitions=10)"
   ]
  },
  {
   "cell_type": "code",
   "execution_count": 21,
   "metadata": {},
   "outputs": [
    {
     "data": {
      "text/plain": [
       "Summons Number                       string[pyarrow]\n",
       "Plate ID                             string[pyarrow]\n",
       "Registration State                   string[pyarrow]\n",
       "Plate Type                           string[pyarrow]\n",
       "Issue Date                           string[pyarrow]\n",
       "Violation Code                       string[pyarrow]\n",
       "Vehicle Body Type                    string[pyarrow]\n",
       "Vehicle Make                         string[pyarrow]\n",
       "Issuing Agency                       string[pyarrow]\n",
       "Street Code1                         string[pyarrow]\n",
       "Street Code2                         string[pyarrow]\n",
       "Street Code3                         string[pyarrow]\n",
       "Vehicle Expiration Date              string[pyarrow]\n",
       "Violation Location                   string[pyarrow]\n",
       "Violation Precinct                   string[pyarrow]\n",
       "Issuer Precinct                      string[pyarrow]\n",
       "Issuer Code                          string[pyarrow]\n",
       "Issuer Command                       string[pyarrow]\n",
       "Issuer Squad                         string[pyarrow]\n",
       "Violation Time                       string[pyarrow]\n",
       "Time First Observed                  string[pyarrow]\n",
       "Violation County                     string[pyarrow]\n",
       "Violation In Front Of Or Opposite    string[pyarrow]\n",
       "Number                               string[pyarrow]\n",
       "Street                               string[pyarrow]\n",
       "Intersecting Street                  string[pyarrow]\n",
       "Date First Observed                  string[pyarrow]\n",
       "Law Section                          string[pyarrow]\n",
       "Sub Division                         string[pyarrow]\n",
       "Violation Legal Code                 string[pyarrow]\n",
       "Days Parking In Effect               string[pyarrow]\n",
       "From Hours In Effect                 string[pyarrow]\n",
       "To Hours In Effect                   string[pyarrow]\n",
       "Vehicle Color                        string[pyarrow]\n",
       "Unregistered Vehicle?                string[pyarrow]\n",
       "Vehicle Year                         string[pyarrow]\n",
       "Meter Number                         string[pyarrow]\n",
       "Feet From Curb                       string[pyarrow]\n",
       "Violation Post Code                  string[pyarrow]\n",
       "Violation Description                string[pyarrow]\n",
       "No Standing or Stopping Violation    string[pyarrow]\n",
       "Hydrant Violation                    string[pyarrow]\n",
       "Double Parking Violation             string[pyarrow]\n",
       "STATION                              string[pyarrow]\n",
       "AWND                                 string[pyarrow]\n",
       "PRCP                                 string[pyarrow]\n",
       "SNOW                                 string[pyarrow]\n",
       "TAVG                                 string[pyarrow]\n",
       "TMAX                                 string[pyarrow]\n",
       "TMIN                                 string[pyarrow]\n",
       "Schools                              string[pyarrow]\n",
       "Businesses                           string[pyarrow]\n",
       "Attractions                          string[pyarrow]\n",
       "event_date                           string[pyarrow]\n",
       "event_borough                        string[pyarrow]\n",
       "events_count                         string[pyarrow]\n",
       "borough_normalized_events            string[pyarrow]\n",
       "day_normalized_events                string[pyarrow]\n",
       "total_events_by_borough              string[pyarrow]\n",
       "total_events_by_day                  string[pyarrow]\n",
       "dtype: object"
      ]
     },
     "execution_count": 21,
     "metadata": {},
     "output_type": "execute_result"
    }
   ],
   "source": [
    "df.dtypes"
   ]
  },
  {
   "cell_type": "markdown",
   "metadata": {},
   "source": [
    "### Data preparation"
   ]
  },
  {
   "cell_type": "code",
   "execution_count": 25,
   "metadata": {},
   "outputs": [],
   "source": [
    "# Columns to keep\n",
    "columns_to_keep = [\n",
    "    'Issue Date', \n",
    "    #'Plate ID', \n",
    "    #'Violation Code', \n",
    "    #'Registration State', #- for plotting\n",
    "    #'Plate Type', \n",
    "    #'Vehicle Body Type', \n",
    "    #'Vehicle Color', \n",
    "    'Vehicle Make', \n",
    "    #'Issuing Agency', \n",
    "    #'Violation Time', #!! change\n",
    "    #'Vehicle Year', \n",
    "    #'Time First Observed', \n",
    "    #'Violation County', # we have alread\n",
    "    #'Street'\n",
    "    #'n_tickets',\n",
    "    'Schools',\n",
    "    'Businesses',\n",
    "    'Attractions',\n",
    "    'AWND',\n",
    "    'PRCP',\n",
    "    'SNOW',\n",
    "    'TMAX',\n",
    "    'TMIN',\n",
    "    'borough_normalized_events',\n",
    "    'day_normalized_events',\n",
    "    ]"
   ]
  },
  {
   "cell_type": "code",
   "execution_count": 26,
   "metadata": {},
   "outputs": [
    {
     "data": {
      "text/html": [
       "<div>\n",
       "<style scoped>\n",
       "    .dataframe tbody tr th:only-of-type {\n",
       "        vertical-align: middle;\n",
       "    }\n",
       "\n",
       "    .dataframe tbody tr th {\n",
       "        vertical-align: top;\n",
       "    }\n",
       "\n",
       "    .dataframe thead th {\n",
       "        text-align: right;\n",
       "    }\n",
       "</style>\n",
       "<table border=\"1\" class=\"dataframe\">\n",
       "  <thead>\n",
       "    <tr style=\"text-align: right;\">\n",
       "      <th></th>\n",
       "      <th>Issue Date</th>\n",
       "      <th>Vehicle Make</th>\n",
       "      <th>Schools</th>\n",
       "      <th>Businesses</th>\n",
       "      <th>Attractions</th>\n",
       "      <th>AWND</th>\n",
       "      <th>PRCP</th>\n",
       "      <th>SNOW</th>\n",
       "      <th>TMAX</th>\n",
       "      <th>TMIN</th>\n",
       "      <th>borough_normalized_events</th>\n",
       "      <th>day_normalized_events</th>\n",
       "    </tr>\n",
       "  </thead>\n",
       "  <tbody>\n",
       "    <tr>\n",
       "      <th>7</th>\n",
       "      <td>2013-07-01</td>\n",
       "      <td>CHEVR</td>\n",
       "      <td>0.19953188999414861</td>\n",
       "      <td>0.16281053114106314</td>\n",
       "      <td>0.08143322475570032</td>\n",
       "      <td>3.13</td>\n",
       "      <td>0.84</td>\n",
       "      <td>0.0</td>\n",
       "      <td>77</td>\n",
       "      <td>72</td>\n",
       "      <td>0.0003740065451145</td>\n",
       "      <td>0.1666666666666666</td>\n",
       "    </tr>\n",
       "    <tr>\n",
       "      <th>22</th>\n",
       "      <td>2013-07-01</td>\n",
       "      <td>SAAB</td>\n",
       "      <td>0.042715038033937974</td>\n",
       "      <td>0.03292314143269856</td>\n",
       "      <td>0.05211726384364821</td>\n",
       "      <td>3.13</td>\n",
       "      <td>0.84</td>\n",
       "      <td>0.0</td>\n",
       "      <td>77</td>\n",
       "      <td>72</td>\n",
       "      <td>0.0001134816159782</td>\n",
       "      <td>0.0416666666666666</td>\n",
       "    </tr>\n",
       "    <tr>\n",
       "      <th>33</th>\n",
       "      <td>2013-07-01</td>\n",
       "      <td>BMW</td>\n",
       "      <td>0.19953188999414861</td>\n",
       "      <td>0.16281053114106314</td>\n",
       "      <td>0.08143322475570032</td>\n",
       "      <td>3.13</td>\n",
       "      <td>0.84</td>\n",
       "      <td>0.0</td>\n",
       "      <td>77</td>\n",
       "      <td>72</td>\n",
       "      <td>0.0003740065451145</td>\n",
       "      <td>0.1666666666666666</td>\n",
       "    </tr>\n",
       "    <tr>\n",
       "      <th>53</th>\n",
       "      <td>2013-07-01</td>\n",
       "      <td>DODGE</td>\n",
       "      <td>0.19953188999414861</td>\n",
       "      <td>0.16281053114106314</td>\n",
       "      <td>0.08143322475570032</td>\n",
       "      <td>3.13</td>\n",
       "      <td>0.84</td>\n",
       "      <td>0.0</td>\n",
       "      <td>77</td>\n",
       "      <td>72</td>\n",
       "      <td>0.0003740065451145</td>\n",
       "      <td>0.1666666666666666</td>\n",
       "    </tr>\n",
       "    <tr>\n",
       "      <th>115</th>\n",
       "      <td>2013-07-01</td>\n",
       "      <td>FORD</td>\n",
       "      <td>0.19953188999414861</td>\n",
       "      <td>0.16281053114106314</td>\n",
       "      <td>0.08143322475570032</td>\n",
       "      <td>3.13</td>\n",
       "      <td>0.84</td>\n",
       "      <td>0.0</td>\n",
       "      <td>77</td>\n",
       "      <td>72</td>\n",
       "      <td>0.0003740065451145</td>\n",
       "      <td>0.1666666666666666</td>\n",
       "    </tr>\n",
       "  </tbody>\n",
       "</table>\n",
       "</div>"
      ],
      "text/plain": [
       "     Issue Date Vehicle Make               Schools           Businesses  \\\n",
       "7    2013-07-01        CHEVR   0.19953188999414861  0.16281053114106314   \n",
       "22   2013-07-01         SAAB  0.042715038033937974  0.03292314143269856   \n",
       "33   2013-07-01          BMW   0.19953188999414861  0.16281053114106314   \n",
       "53   2013-07-01        DODGE   0.19953188999414861  0.16281053114106314   \n",
       "115  2013-07-01         FORD   0.19953188999414861  0.16281053114106314   \n",
       "\n",
       "             Attractions  AWND  PRCP SNOW TMAX TMIN borough_normalized_events  \\\n",
       "7    0.08143322475570032  3.13  0.84  0.0   77   72        0.0003740065451145   \n",
       "22   0.05211726384364821  3.13  0.84  0.0   77   72        0.0001134816159782   \n",
       "33   0.08143322475570032  3.13  0.84  0.0   77   72        0.0003740065451145   \n",
       "53   0.08143322475570032  3.13  0.84  0.0   77   72        0.0003740065451145   \n",
       "115  0.08143322475570032  3.13  0.84  0.0   77   72        0.0003740065451145   \n",
       "\n",
       "    day_normalized_events  \n",
       "7      0.1666666666666666  \n",
       "22     0.0416666666666666  \n",
       "33     0.1666666666666666  \n",
       "53     0.1666666666666666  \n",
       "115    0.1666666666666666  "
      ]
     },
     "execution_count": 26,
     "metadata": {},
     "output_type": "execute_result"
    }
   ],
   "source": [
    "df = df[columns_to_keep]\n",
    "df = df.dropna()\n",
    "df.head()"
   ]
  },
  {
   "cell_type": "markdown",
   "metadata": {},
   "source": [
    "#TODO: We also have to select the appropriate locations here: so all, county, or most interesting streets."
   ]
  },
  {
   "cell_type": "code",
   "execution_count": 27,
   "metadata": {},
   "outputs": [],
   "source": [
    "# keep only the top 10 vehicle makes\n",
    "top_vehicle_makes = df['Vehicle Make'].value_counts().nlargest(10).index\n",
    "df = df[df['Vehicle Make'].isin(top_vehicle_makes)]\n",
    "\n"
   ]
  },
  {
   "cell_type": "markdown",
   "metadata": {},
   "source": [
    "## Grouping data"
   ]
  },
  {
   "cell_type": "code",
   "execution_count": 28,
   "metadata": {},
   "outputs": [],
   "source": [
    "df = df.persist()"
   ]
  },
  {
   "cell_type": "code",
   "execution_count": null,
   "metadata": {},
   "outputs": [],
   "source": [
    "df[\"n_tickets\"] = 1\n",
    "\n",
    "df = df.groupby(['Issue Date', 'Vehicle Make']).agg({\n",
    "    'n_tickets': 'sum', \n",
    "    'Schools': 'mean',\n",
    "    'Businesses': 'mean',\n",
    "    'Attractions': 'mean',\n",
    "    'AWND': 'mean',\n",
    "    'PRCP': 'mean',\n",
    "    'SNOW': 'mean',\n",
    "    'TMAX': 'mean',\n",
    "    'TMIN': 'mean',\n",
    "    'borough_normalized_events': 'mean',  # if applicable\n",
    "    'day_normalized_events': 'mean'  # if applicable\n",
    "}).reset_index()\n",
    "\n",
    "df_pred = df.compute().reset_index()"
   ]
  },
  {
   "cell_type": "code",
   "execution_count": 93,
   "metadata": {},
   "outputs": [
    {
     "data": {
      "text/html": [
       "<div>\n",
       "<style scoped>\n",
       "    .dataframe tbody tr th:only-of-type {\n",
       "        vertical-align: middle;\n",
       "    }\n",
       "\n",
       "    .dataframe tbody tr th {\n",
       "        vertical-align: top;\n",
       "    }\n",
       "\n",
       "    .dataframe thead th {\n",
       "        text-align: right;\n",
       "    }\n",
       "</style>\n",
       "<table border=\"1\" class=\"dataframe\">\n",
       "  <thead>\n",
       "    <tr style=\"text-align: right;\">\n",
       "      <th></th>\n",
       "      <th>Issue Date</th>\n",
       "      <th>Vehicle Make</th>\n",
       "      <th>n_tickets</th>\n",
       "    </tr>\n",
       "  </thead>\n",
       "  <tbody>\n",
       "    <tr>\n",
       "      <th>0</th>\n",
       "      <td>2013-07-01</td>\n",
       "      <td>BMW</td>\n",
       "      <td>2</td>\n",
       "    </tr>\n",
       "    <tr>\n",
       "      <th>1</th>\n",
       "      <td>2013-07-01</td>\n",
       "      <td>BUICK</td>\n",
       "      <td>2</td>\n",
       "    </tr>\n",
       "    <tr>\n",
       "      <th>2</th>\n",
       "      <td>2013-07-01</td>\n",
       "      <td>CADIL</td>\n",
       "      <td>1</td>\n",
       "    </tr>\n",
       "    <tr>\n",
       "      <th>3</th>\n",
       "      <td>2013-07-01</td>\n",
       "      <td>CHEVR</td>\n",
       "      <td>6</td>\n",
       "    </tr>\n",
       "    <tr>\n",
       "      <th>4</th>\n",
       "      <td>2013-07-01</td>\n",
       "      <td>CHRYS</td>\n",
       "      <td>3</td>\n",
       "    </tr>\n",
       "  </tbody>\n",
       "</table>\n",
       "</div>"
      ],
      "text/plain": [
       "   Issue Date Vehicle Make  n_tickets\n",
       "0  2013-07-01          BMW          2\n",
       "1  2013-07-01        BUICK          2\n",
       "2  2013-07-01        CADIL          1\n",
       "3  2013-07-01        CHEVR          6\n",
       "4  2013-07-01        CHRYS          3"
      ]
     },
     "execution_count": 93,
     "metadata": {},
     "output_type": "execute_result"
    }
   ],
   "source": [
    "df_pred.head()"
   ]
  },
  {
   "cell_type": "code",
   "execution_count": 94,
   "metadata": {},
   "outputs": [
    {
     "data": {
      "text/html": [
       "<div>\n",
       "<style scoped>\n",
       "    .dataframe tbody tr th:only-of-type {\n",
       "        vertical-align: middle;\n",
       "    }\n",
       "\n",
       "    .dataframe tbody tr th {\n",
       "        vertical-align: top;\n",
       "    }\n",
       "\n",
       "    .dataframe thead th {\n",
       "        text-align: right;\n",
       "    }\n",
       "</style>\n",
       "<table border=\"1\" class=\"dataframe\">\n",
       "  <thead>\n",
       "    <tr style=\"text-align: right;\">\n",
       "      <th></th>\n",
       "      <th>Issue Date</th>\n",
       "      <th>Vehicle Make</th>\n",
       "      <th>n_tickets</th>\n",
       "    </tr>\n",
       "  </thead>\n",
       "  <tbody>\n",
       "    <tr>\n",
       "      <th>546875</th>\n",
       "      <td>2024-06-30</td>\n",
       "      <td>TOYOT</td>\n",
       "      <td>1</td>\n",
       "    </tr>\n",
       "    <tr>\n",
       "      <th>333129</th>\n",
       "      <td>2020-01-19</td>\n",
       "      <td>ROLLS</td>\n",
       "      <td>1</td>\n",
       "    </tr>\n",
       "    <tr>\n",
       "      <th>142072</th>\n",
       "      <td>2016-01-29</td>\n",
       "      <td>FT</td>\n",
       "      <td>1</td>\n",
       "    </tr>\n",
       "    <tr>\n",
       "      <th>142073</th>\n",
       "      <td>2016-01-29</td>\n",
       "      <td>FT/LI</td>\n",
       "      <td>1</td>\n",
       "    </tr>\n",
       "    <tr>\n",
       "      <th>333128</th>\n",
       "      <td>2020-01-19</td>\n",
       "      <td>RA/RO</td>\n",
       "      <td>1</td>\n",
       "    </tr>\n",
       "    <tr>\n",
       "      <th>...</th>\n",
       "      <td>...</td>\n",
       "      <td>...</td>\n",
       "      <td>...</td>\n",
       "    </tr>\n",
       "    <tr>\n",
       "      <th>422597</th>\n",
       "      <td>2021-11-26</td>\n",
       "      <td>HONDA</td>\n",
       "      <td>9317</td>\n",
       "    </tr>\n",
       "    <tr>\n",
       "      <th>70920</th>\n",
       "      <td>2015-01-20</td>\n",
       "      <td>FORD</td>\n",
       "      <td>9362</td>\n",
       "    </tr>\n",
       "    <tr>\n",
       "      <th>375089</th>\n",
       "      <td>2020-11-27</td>\n",
       "      <td>HONDA</td>\n",
       "      <td>9384</td>\n",
       "    </tr>\n",
       "    <tr>\n",
       "      <th>71092</th>\n",
       "      <td>2015-01-22</td>\n",
       "      <td>FORD</td>\n",
       "      <td>9657</td>\n",
       "    </tr>\n",
       "    <tr>\n",
       "      <th>70554</th>\n",
       "      <td>2015-01-15</td>\n",
       "      <td>FORD</td>\n",
       "      <td>9824</td>\n",
       "    </tr>\n",
       "  </tbody>\n",
       "</table>\n",
       "<p>546876 rows × 3 columns</p>\n",
       "</div>"
      ],
      "text/plain": [
       "        Issue Date Vehicle Make  n_tickets\n",
       "546875  2024-06-30        TOYOT          1\n",
       "333129  2020-01-19        ROLLS          1\n",
       "142072  2016-01-29           FT          1\n",
       "142073  2016-01-29        FT/LI          1\n",
       "333128  2020-01-19        RA/RO          1\n",
       "...            ...          ...        ...\n",
       "422597  2021-11-26        HONDA       9317\n",
       "70920   2015-01-20         FORD       9362\n",
       "375089  2020-11-27        HONDA       9384\n",
       "71092   2015-01-22         FORD       9657\n",
       "70554   2015-01-15         FORD       9824\n",
       "\n",
       "[546876 rows x 3 columns]"
      ]
     },
     "execution_count": 94,
     "metadata": {},
     "output_type": "execute_result"
    }
   ],
   "source": [
    "df_pred.sort_values(by=\"n_tickets\")"
   ]
  },
  {
   "cell_type": "code",
   "execution_count": 33,
   "metadata": {},
   "outputs": [
    {
     "data": {
      "text/plain": [
       "22.691249936000116"
      ]
     },
     "execution_count": 33,
     "metadata": {},
     "output_type": "execute_result"
    },
    {
     "data": {
      "image/png": "[encoded data removed]",
      "text/plain": [
       "<Figure size 640x480 with 1 Axes>"
      ]
     },
     "metadata": {},
     "output_type": "display_data"
    }
   ],
   "source": [
    "# distribution of number of tickets\n",
    "df_pred[\"n_tickets\"].hist(bins=100)\n",
    "\n",
    "\n",
    "# percentage that is more than 100 tickets\n",
    "(df_pred[\"n_tickets\"] > 100).sum() / len(df_pred) * 100"
   ]
  },
  {
   "cell_type": "code",
   "execution_count": 36,
   "metadata": {},
   "outputs": [],
   "source": [
    "df = df_pred"
   ]
  },
  {
   "cell_type": "code",
   "execution_count": 555,
   "metadata": {},
   "outputs": [],
   "source": [
    "#get dummies for the county\n",
    "df = pd.get_dummies(df, columns=['Vehicle Make']).astype(float)"
   ]
  },
  {
   "cell_type": "markdown",
   "metadata": {},
   "source": [
    "## SPLIT HERE AND RUN BOTH PARTS ON HPC"
   ]
  },
  {
   "cell_type": "markdown",
   "metadata": {},
   "source": [
    "## Predictions"
   ]
  },
  {
   "cell_type": "code",
   "execution_count": 556,
   "metadata": {},
   "outputs": [],
   "source": [
    "X = df\n",
    "y = X.pop('n_tickets')"
   ]
  },
  {
   "cell_type": "code",
   "execution_count": 605,
   "metadata": {},
   "outputs": [],
   "source": [
    "# save df and X, y to pickle files\n",
    "df.to_pickle('data/ml/df_vehicle_make.pkl')\n",
    "X.to_pickle('data/ml/X_vehicle_make.pkl')\n",
    "y.to_pickle('data/ml/y_vehicle_make.pkl')"
   ]
  },
  {
   "cell_type": "code",
   "execution_count": 609,
   "metadata": {},
   "outputs": [],
   "source": [
    "# Choose the start and end date\n",
    "split_date = '2019-07-01'\n",
    "\n",
    "X_train, X_test = X.loc[:split_date], X.loc[split_date:]\n",
    "y_train, y_test = y.loc[:split_date], y.loc[split_date:]\n",
    "\n",
    "# ADD TIME HERE!!!"
   ]
  },
  {
   "cell_type": "code",
   "execution_count": 610,
   "metadata": {},
   "outputs": [
    {
     "name": "stdout",
     "output_type": "stream",
     "text": [
      "Schools                           0\n",
      "Businesses                        0\n",
      "Attractions                       0\n",
      "day                               0\n",
      "month                             0\n",
      "year                              0\n",
      "day_of_week                       0\n",
      "AWND                         189582\n",
      "PRCP                           3603\n",
      "SNOW                          85037\n",
      "TMAX                         217868\n",
      "TMIN                         217868\n",
      "borough_normalized_events    142743\n",
      "day_normalized_events        142743\n",
      "Violation County_BX               0\n",
      "Violation County_K                0\n",
      "Violation County_NY               0\n",
      "Violation County_Q                0\n",
      "Violation County_R                0\n",
      "dtype: int64\n",
      "Schools                      0.000000\n",
      "Businesses                   0.000000\n",
      "Attractions                  0.000000\n",
      "day                          0.000000\n",
      "month                        0.000000\n",
      "year                         0.000000\n",
      "day_of_week                  0.000000\n",
      "AWND                         0.828611\n",
      "PRCP                         0.015748\n",
      "SNOW                         0.371673\n",
      "TMAX                         0.952241\n",
      "TMIN                         0.952241\n",
      "borough_normalized_events    0.623890\n",
      "day_normalized_events        0.623890\n",
      "Violation County_BX          0.000000\n",
      "Violation County_K           0.000000\n",
      "Violation County_NY          0.000000\n",
      "Violation County_Q           0.000000\n",
      "Violation County_R           0.000000\n",
      "dtype: float64\n",
      "0\n",
      "X_test:\n",
      "Schools                         0\n",
      "Businesses                      0\n",
      "Attractions                     0\n",
      "day                             0\n",
      "month                           0\n",
      "year                            0\n",
      "day_of_week                     0\n",
      "AWND                          280\n",
      "PRCP                            0\n",
      "SNOW                            0\n",
      "TMAX                            0\n",
      "TMIN                            0\n",
      "borough_normalized_events    8616\n",
      "day_normalized_events        8616\n",
      "Violation County_BX             0\n",
      "Violation County_K              0\n",
      "Violation County_NY             0\n",
      "Violation County_Q              0\n",
      "Violation County_R              0\n",
      "dtype: int64\n",
      "Schools                      0.000000\n",
      "Businesses                   0.000000\n",
      "Attractions                  0.000000\n",
      "day                          0.000000\n",
      "month                        0.000000\n",
      "year                         0.000000\n",
      "day_of_week                  0.000000\n",
      "AWND                         0.032449\n",
      "PRCP                         0.000000\n",
      "SNOW                         0.000000\n",
      "TMAX                         0.000000\n",
      "TMIN                         0.000000\n",
      "borough_normalized_events    0.998493\n",
      "day_normalized_events        0.998493\n",
      "Violation County_BX          0.000000\n",
      "Violation County_K           0.000000\n",
      "Violation County_NY          0.000000\n",
      "Violation County_Q           0.000000\n",
      "Violation County_R           0.000000\n",
      "dtype: float64\n",
      "0\n"
     ]
    }
   ],
   "source": [
    "# print all nan rows and percentage of nan rows\n",
    "print(X_train.isnull().sum())\n",
    "print(X_train.isnull().sum()/len(X_train))\n",
    "print(y_train.isnull().sum())\n",
    "print(\"X_test:\")\n",
    "print(X_test.isnull().sum())\n",
    "print(X_test.isnull().sum()/len(X_test))\n",
    "print(y_test.isnull().sum())\n"
   ]
  },
  {
   "cell_type": "code",
   "execution_count": 611,
   "metadata": {},
   "outputs": [],
   "source": [
    "# fill missing values with 0, since there are some especially in the weather data\n",
    "X_train = X_train.fillna(X_train.mean()) \n",
    "X_test = X_test.fillna(X_test.mean())\n",
    "\n",
    "#X_train = X_train.fillna(0) \n",
    "#X_test = X_test.fillna(0)"
   ]
  },
  {
   "cell_type": "code",
   "execution_count": 612,
   "metadata": {},
   "outputs": [],
   "source": [
    "# save feature names to later plot feature importance\n",
    "feature_names = [f'{name}' for name in X_train.columns]"
   ]
  },
  {
   "cell_type": "code",
   "execution_count": 613,
   "metadata": {},
   "outputs": [
    {
     "name": "stderr",
     "output_type": "stream",
     "text": [
      "c:\\Users\\Uporabnik\\.conda\\envs\\bdproject\\Lib\\site-packages\\distributed\\client.py:3161: UserWarning: Sending large graph of size 34.92 MiB.\n",
      "This may cause some slowdown.\n",
      "Consider scattering data ahead of time and using futures.\n",
      "  warnings.warn(\n"
     ]
    }
   ],
   "source": [
    "# Trasnsorming to dask arrays\n",
    "X_train = dd.from_pandas(X_train, npartitions=10)\n",
    "X_test = dd.from_pandas(X_test, npartitions=10)\n",
    "y_train = dd.from_pandas(y_train, npartitions=10)\n",
    "y_test = dd.from_pandas(y_test, npartitions=10)\n",
    "\n",
    "X_train = X_train.to_dask_array()\n",
    "X_test = X_test.to_dask_array()\n",
    "y_train = y_train.to_dask_array()\n",
    "y_test = y_test.compute().values\n",
    "\n",
    "# Scaling the data\n",
    "scaler_train = StandardScaler()\n",
    "scaler_test = StandardScaler()\n",
    "\n",
    "X_train = scaler_train.fit_transform(X_train)\n",
    "X_test = scaler_test.fit_transform(X_test)"
   ]
  },
  {
   "cell_type": "code",
   "execution_count": 614,
   "metadata": {},
   "outputs": [],
   "source": [
    "def plot_predictions(y_test, y_pred, model_name, file_type, title):\n",
    "    fig, ax = plt.subplots(figsize=(8, 6))\n",
    "    ax.scatter(y_test, y_pred, color='blue', alpha=0.5) \n",
    "    ax.plot([y_test.min(), y_test.max()], [y_test.min(), y_test.max()], 'k--', lw=2, color='red')\n",
    "    ax.set_xlabel(\"True Values\")  \n",
    "    ax.set_ylabel(\"Predicted Values\")\n",
    "    ax.set_title(title)  \n",
    "    ax.grid(True)\n",
    "    fig.tight_layout()\n",
    "    plt.savefig(f\"plots/results_{model_name}_{file_type}.png\")\n",
    "    plt.show()"
   ]
  },
  {
   "cell_type": "markdown",
   "metadata": {},
   "source": [
    "### Dask Linear Regression"
   ]
  },
  {
   "cell_type": "code",
   "execution_count": null,
   "metadata": {},
   "outputs": [],
   "source": [
    "def run_lr():    \n",
    "# LR\n",
    "    start_time = time.time()\n",
    "\n",
    "    clf = LinearRegression() #fit_intercept=0\n",
    "    clf.fit(X_train, y_train)\n",
    "    y_pred = clf.predict(X_test)\n",
    "    y_pred = y_pred.compute()\n",
    "\n",
    "    rmse = np.sqrt(mean_squared_error(y_test, y_pred))\n",
    "    plot_predictions(\n",
    "        y_test, y_pred, \"LinearRegression\", file_type=file_type, title=f\"LR RMSE: {rmse:.2f}\"\n",
    "    )\n",
    "\n",
    "    end_time = time.time()\n",
    "\n",
    "    print(\"LR RMSE: \", rmse)\n",
    "    print(f\"Time to fit and predict for Linear Regression: {end_time - start_time:.2f} seconds\")\n",
    "\n",
    "mem_usage = memory_usage(run_lr, max_usage=True)\n",
    "print(f\"Peak memory usage: {mem_usage} MB\")\n",
    "# rmse: 3 9 5271.0\n",
    "# rmse: 4 6 5244.9\n",
    "#      5 5 5271.0\n"
   ]
  },
  {
   "cell_type": "markdown",
   "metadata": {},
   "source": [
    "### XGBoost:"
   ]
  },
  {
   "cell_type": "code",
   "execution_count": null,
   "metadata": {},
   "outputs": [],
   "source": [
    "def run_xgboost():  \n",
    "  # XGBoost\n",
    "    print(\"XGBoost results:\")\n",
    "    start_time = time.time()\n",
    "\n",
    "    clf = xgb.XGBRegressor()\n",
    "    clf.fit(X_train, y_train)\n",
    "    y_pred = clf.predict(X_test)\n",
    "    rmse = np.sqrt(mean_squared_error(y_test, y_pred))\n",
    "    plot_predictions(y_test, y_pred, \"XGBoost\", file_type=file_type, title=f\"XGBoost RMSE: {rmse :.2f}\")\n",
    "    print(\"RMSE: \", rmse)\n",
    "    end_time = time.time()\n",
    "    print(f\"Time for fit and predict with XGBoost: {end_time - start_time:.2f} seconds\")\n",
    "\n",
    "mem_usage = memory_usage(run_xgboost, max_usage=True)\n",
    "print(f\"Peak memory usage: {mem_usage} MB\")\n",
    "\n",
    "# rmse: 3 9 5236.7\n",
    "# rmse: 4 6 5327.62\n",
    "# rmse: 5 5 (n_partitions=15)"
   ]
  },
  {
   "cell_type": "markdown",
   "metadata": {},
   "source": [
    "### partial_fit with SGDRegressor"
   ]
  },
  {
   "cell_type": "code",
   "execution_count": null,
   "metadata": {},
   "outputs": [],
   "source": [
    "def SGD_train_and_predict():\n",
    "    clf = SGDRegressor()  # fit_intercept=0 if needed\n",
    "    for i in range(10):\n",
    "        clf.partial_fit(X_train, y_train)\n",
    "\n",
    "    y_pred = clf.predict(X_test)\n",
    "    rmse = np.sqrt(mean_squared_error(y_test, y_pred))\n",
    "    plot_predictions(\n",
    "        y_test, y_pred, \"SGDRegressor\", file_type=file_type, title=f\"SGD RMSE: {rmse:.2f}\"\n",
    "    )\n",
    "    return rmse\n",
    "\n",
    "# Measure time and memory\n",
    "start_time = time.time()\n",
    "mem_usage = memory_usage(SGD_train_and_predict, max_usage=True)  # Returns the maximum memory usage\n",
    "end_time = time.time()\n",
    "\n",
    "print(f\"SGD RMSE: {SGD_train_and_predict():.2f}\")\n",
    "print(f\"Time to fit and predict for SGDRegressor: {end_time - start_time:.2f} seconds\")\n",
    "print(f\"Peak memory usage: {mem_usage:.2f} MiB\")\n",
    "\n",
    "# rmse: 3 9 4912.4\n",
    "# rmse: 4 6 4880.54\n",
    "# rmse: 5 5 4966.0"
   ]
  }
 ],
 "metadata": {
  "kernelspec": {
   "display_name": "bdproject",
   "language": "python",
   "name": "python3"
  },
  "language_info": {
   "codemirror_mode": {
    "name": "ipython",
    "version": 3
   },
   "file_extension": ".py",
   "mimetype": "text/x-python",
   "name": "python",
   "nbconvert_exporter": "python",
   "pygments_lexer": "ipython3",
   "version": "3.12.3"
  }
 },
 "nbformat": 4,
 "nbformat_minor": 2
}
