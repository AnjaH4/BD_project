{
 "cells": [
  {
   "cell_type": "markdown",
   "metadata": {},
   "source": [
    "Imports"
   ]
  },
  {
   "cell_type": "code",
   "execution_count": 1,
   "metadata": {},
   "outputs": [],
   "source": [
    "import numpy as np\n",
    "import matplotlib.pyplot as plt\n",
    "import pandas as pd\n",
    "#import dask.dataframe as dd"
   ]
  },
  {
   "cell_type": "markdown",
   "metadata": {},
   "source": [
    "Getting the csv data"
   ]
  },
  {
   "cell_type": "code",
   "execution_count": 3,
   "metadata": {},
   "outputs": [],
   "source": [
    "DATA_DIR = '/home/maja/BD-project'"
   ]
  },
  {
   "cell_type": "code",
   "execution_count": 2,
   "metadata": {},
   "outputs": [],
   "source": [
    "# Windows\n",
    "DATA_DIR = \"data/parking-violations\""
   ]
  },
  {
   "cell_type": "code",
   "execution_count": 2,
   "metadata": {},
   "outputs": [
    {
     "name": "stdout",
     "output_type": "stream",
     "text": [
      "CSV file size: 2386.7912406921387 MB\n",
      "Parquet file size: 377.13710594177246 MB\n",
      "HDF5 file size: 1755.4192180633545 MB\n",
      "---------------------------------------------------\n"
     ]
    }
   ],
   "source": [
    "# Compare file sizes\n",
    "import os\n",
    "file = \"Parking_Violations_Issued_-_Fiscal_Year_2024_20240524\"\n",
    "\n",
    "csv_size = os.path.getsize(f'data\\\\parking-violations\\\\{file}.csv')\n",
    "parquet_size = os.path.getsize(f'data/{file}.parquet')\n",
    "hdf_size = os.path.getsize(f'data/{file}.h5')\n",
    "\n",
    "# print size in MB\n",
    "print(f\"CSV file size: {csv_size/1024/1024} MB\")\n",
    "print(f\"Parquet file size: {parquet_size / 1024 / 1024} MB\")\n",
    "print(f\"HDF5 file size: {hdf_size / 1024 / 1024} MB\")\n",
    "print(\"---------------------------------------------------\")"
   ]
  },
  {
   "cell_type": "code",
   "execution_count": 3,
   "metadata": {},
   "outputs": [],
   "source": [
    "# for csv files import\n",
    "def import_csv(file_name):\n",
    "    return pd.read_csv(DATA_DIR + '/' + file_name)\n",
    "\n",
    "# for parquet files import\n",
    "def import_parquet(file_name):\n",
    "    return dd.read_parquet(DATA_DIR + '/' + file_name)"
   ]
  },
  {
   "cell_type": "code",
   "execution_count": 4,
   "metadata": {},
   "outputs": [
    {
     "name": "stderr",
     "output_type": "stream",
     "text": [
      "C:\\Users\\Uporabnik\\AppData\\Local\\Temp\\ipykernel_25492\\542175123.py:3: DtypeWarning: Columns (17,18,20,22,23,29,30,31,32,36,38) have mixed types. Specify dtype option on import or set low_memory=False.\n",
      "  return pd.read_csv(DATA_DIR + '/' + file_name)\n"
     ]
    }
   ],
   "source": [
    "dd_2014 = import_csv(\"Parking_Violations_Issued_-_Fiscal_Year_2024_20240524.csv\")"
   ]
  },
  {
   "cell_type": "code",
   "execution_count": 5,
   "metadata": {},
   "outputs": [
    {
     "data": {
      "text/html": [
       "<div>\n",
       "<style scoped>\n",
       "    .dataframe tbody tr th:only-of-type {\n",
       "        vertical-align: middle;\n",
       "    }\n",
       "\n",
       "    .dataframe tbody tr th {\n",
       "        vertical-align: top;\n",
       "    }\n",
       "\n",
       "    .dataframe thead th {\n",
       "        text-align: right;\n",
       "    }\n",
       "</style>\n",
       "<table border=\"1\" class=\"dataframe\">\n",
       "  <thead>\n",
       "    <tr style=\"text-align: right;\">\n",
       "      <th></th>\n",
       "      <th>Summons Number</th>\n",
       "      <th>Plate ID</th>\n",
       "      <th>Registration State</th>\n",
       "      <th>Plate Type</th>\n",
       "      <th>Issue Date</th>\n",
       "      <th>Violation Code</th>\n",
       "      <th>Vehicle Body Type</th>\n",
       "      <th>Vehicle Make</th>\n",
       "      <th>Issuing Agency</th>\n",
       "      <th>Street Code1</th>\n",
       "      <th>...</th>\n",
       "      <th>Vehicle Color</th>\n",
       "      <th>Unregistered Vehicle?</th>\n",
       "      <th>Vehicle Year</th>\n",
       "      <th>Meter Number</th>\n",
       "      <th>Feet From Curb</th>\n",
       "      <th>Violation Post Code</th>\n",
       "      <th>Violation Description</th>\n",
       "      <th>No Standing or Stopping Violation</th>\n",
       "      <th>Hydrant Violation</th>\n",
       "      <th>Double Parking Violation</th>\n",
       "    </tr>\n",
       "  </thead>\n",
       "  <tbody>\n",
       "    <tr>\n",
       "      <th>0</th>\n",
       "      <td>1159637337</td>\n",
       "      <td>KZH2758</td>\n",
       "      <td>NY</td>\n",
       "      <td>PAS</td>\n",
       "      <td>06/09/2023</td>\n",
       "      <td>67</td>\n",
       "      <td>VAN</td>\n",
       "      <td>HONDA</td>\n",
       "      <td>P</td>\n",
       "      <td>0</td>\n",
       "      <td>...</td>\n",
       "      <td>BLUE</td>\n",
       "      <td>0.0</td>\n",
       "      <td>2006</td>\n",
       "      <td>-</td>\n",
       "      <td>0</td>\n",
       "      <td>NaN</td>\n",
       "      <td>NaN</td>\n",
       "      <td>NaN</td>\n",
       "      <td>NaN</td>\n",
       "      <td>NaN</td>\n",
       "    </tr>\n",
       "    <tr>\n",
       "      <th>1</th>\n",
       "      <td>1252960645</td>\n",
       "      <td>JPD8746</td>\n",
       "      <td>NY</td>\n",
       "      <td>PAS</td>\n",
       "      <td>06/30/2023</td>\n",
       "      <td>87</td>\n",
       "      <td>SUBN</td>\n",
       "      <td>LINCO</td>\n",
       "      <td>M</td>\n",
       "      <td>17870</td>\n",
       "      <td>...</td>\n",
       "      <td>GRAY</td>\n",
       "      <td>0.0</td>\n",
       "      <td>2020</td>\n",
       "      <td>-</td>\n",
       "      <td>0</td>\n",
       "      <td>NaN</td>\n",
       "      <td>NaN</td>\n",
       "      <td>NaN</td>\n",
       "      <td>NaN</td>\n",
       "      <td>NaN</td>\n",
       "    </tr>\n",
       "    <tr>\n",
       "      <th>2</th>\n",
       "      <td>1252960669</td>\n",
       "      <td>JPD8746</td>\n",
       "      <td>NY</td>\n",
       "      <td>PAS</td>\n",
       "      <td>06/30/2023</td>\n",
       "      <td>31</td>\n",
       "      <td>SUBN</td>\n",
       "      <td>LINCO</td>\n",
       "      <td>M</td>\n",
       "      <td>17870</td>\n",
       "      <td>...</td>\n",
       "      <td>GRAY</td>\n",
       "      <td>0.0</td>\n",
       "      <td>2020</td>\n",
       "      <td>-</td>\n",
       "      <td>0</td>\n",
       "      <td>NaN</td>\n",
       "      <td>NaN</td>\n",
       "      <td>NaN</td>\n",
       "      <td>NaN</td>\n",
       "      <td>NaN</td>\n",
       "    </tr>\n",
       "    <tr>\n",
       "      <th>3</th>\n",
       "      <td>1252994126</td>\n",
       "      <td>MBH9245</td>\n",
       "      <td>99</td>\n",
       "      <td>PAS</td>\n",
       "      <td>07/06/2023</td>\n",
       "      <td>20</td>\n",
       "      <td>SDN</td>\n",
       "      <td>KIA</td>\n",
       "      <td>M</td>\n",
       "      <td>12690</td>\n",
       "      <td>...</td>\n",
       "      <td>WHITE</td>\n",
       "      <td>0.0</td>\n",
       "      <td>0</td>\n",
       "      <td>-</td>\n",
       "      <td>0</td>\n",
       "      <td>NaN</td>\n",
       "      <td>NaN</td>\n",
       "      <td>NaN</td>\n",
       "      <td>NaN</td>\n",
       "      <td>NaN</td>\n",
       "    </tr>\n",
       "    <tr>\n",
       "      <th>4</th>\n",
       "      <td>1252994175</td>\n",
       "      <td>MBH9245</td>\n",
       "      <td>PA</td>\n",
       "      <td>PAS</td>\n",
       "      <td>07/08/2023</td>\n",
       "      <td>40</td>\n",
       "      <td>SDN</td>\n",
       "      <td>KIA</td>\n",
       "      <td>M</td>\n",
       "      <td>12690</td>\n",
       "      <td>...</td>\n",
       "      <td>WHITE</td>\n",
       "      <td>0.0</td>\n",
       "      <td>0</td>\n",
       "      <td>-</td>\n",
       "      <td>0</td>\n",
       "      <td>NaN</td>\n",
       "      <td>NaN</td>\n",
       "      <td>NaN</td>\n",
       "      <td>NaN</td>\n",
       "      <td>NaN</td>\n",
       "    </tr>\n",
       "  </tbody>\n",
       "</table>\n",
       "<p>5 rows × 43 columns</p>\n",
       "</div>"
      ],
      "text/plain": [
       "   Summons Number Plate ID Registration State Plate Type  Issue Date  \\\n",
       "0      1159637337  KZH2758                 NY        PAS  06/09/2023   \n",
       "1      1252960645  JPD8746                 NY        PAS  06/30/2023   \n",
       "2      1252960669  JPD8746                 NY        PAS  06/30/2023   \n",
       "3      1252994126  MBH9245                 99        PAS  07/06/2023   \n",
       "4      1252994175  MBH9245                 PA        PAS  07/08/2023   \n",
       "\n",
       "   Violation Code Vehicle Body Type Vehicle Make Issuing Agency  Street Code1  \\\n",
       "0              67               VAN        HONDA              P             0   \n",
       "1              87              SUBN        LINCO              M         17870   \n",
       "2              31              SUBN        LINCO              M         17870   \n",
       "3              20               SDN          KIA              M         12690   \n",
       "4              40               SDN          KIA              M         12690   \n",
       "\n",
       "   ...  Vehicle Color  Unregistered Vehicle?  Vehicle Year  Meter Number  \\\n",
       "0  ...           BLUE                    0.0          2006             -   \n",
       "1  ...           GRAY                    0.0          2020             -   \n",
       "2  ...           GRAY                    0.0          2020             -   \n",
       "3  ...          WHITE                    0.0             0             -   \n",
       "4  ...          WHITE                    0.0             0             -   \n",
       "\n",
       "   Feet From Curb  Violation Post Code  Violation Description  \\\n",
       "0               0                  NaN                    NaN   \n",
       "1               0                  NaN                    NaN   \n",
       "2               0                  NaN                    NaN   \n",
       "3               0                  NaN                    NaN   \n",
       "4               0                  NaN                    NaN   \n",
       "\n",
       "  No Standing or Stopping Violation Hydrant Violation Double Parking Violation  \n",
       "0                               NaN               NaN                      NaN  \n",
       "1                               NaN               NaN                      NaN  \n",
       "2                               NaN               NaN                      NaN  \n",
       "3                               NaN               NaN                      NaN  \n",
       "4                               NaN               NaN                      NaN  \n",
       "\n",
       "[5 rows x 43 columns]"
      ]
     },
     "execution_count": 5,
     "metadata": {},
     "output_type": "execute_result"
    }
   ],
   "source": [
    "dd_2014.head()"
   ]
  },
  {
   "cell_type": "code",
   "execution_count": null,
   "metadata": {},
   "outputs": [],
   "source": []
  }
 ],
 "metadata": {
  "kernelspec": {
   "display_name": "bigdata",
   "language": "python",
   "name": "python3"
  },
  "language_info": {
   "codemirror_mode": {
    "name": "ipython",
    "version": 3
   },
   "file_extension": ".py",
   "mimetype": "text/x-python",
   "name": "python",
   "nbconvert_exporter": "python",
   "pygments_lexer": "ipython3",
   "version": "3.12.3"
  }
 },
 "nbformat": 4,
 "nbformat_minor": 2
}
